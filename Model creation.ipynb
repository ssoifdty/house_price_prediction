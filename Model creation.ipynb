{
 "cells": [
  {
   "cell_type": "code",
   "execution_count": 5,
   "id": "12f0fff7",
   "metadata": {},
   "outputs": [],
   "source": [
    "import numpy as np\n",
    "import pandas as pd\n",
    "import seaborn as sns\n",
    "import matplotlib.pyplot as plt\n",
    "import warnings\n",
    "import xgboost\n",
    "\n",
    "from math import sqrt\n",
    "from sklearn.model_selection import train_test_split\n",
    "from sklearn.preprocessing import StandardScaler\n",
    "from sklearn.linear_model import LinearRegression, Ridge, Lasso, SGDRegressor\n",
    "from sklearn.metrics import mean_squared_error, mean_absolute_error, r2_score\n",
    "from sklearn.ensemble import RandomForestRegressor, AdaBoostRegressor, GradientBoostingRegressor\n",
    "from sklearn.tree import DecisionTreeRegressor\n",
    "from sklearn.preprocessing import PolynomialFeatures\n",
    "from sklearn.model_selection import GridSearchCV\n",
    "from sklearn.model_selection import cross_val_score\n",
    "\n",
    "%matplotlib inline\n",
    "pd.set_option('display.max_columns',None)\n",
    "warnings.simplefilter(action='ignore')"
   ]
  },
  {
   "cell_type": "code",
   "execution_count": 4,
   "id": "90e039ef",
   "metadata": {},
   "outputs": [
    {
     "name": "stdout",
     "output_type": "stream",
     "text": [
      "Collecting xgboost\n",
      "  Downloading xgboost-1.5.2-py3-none-win_amd64.whl (106.6 MB)\n",
      "Requirement already satisfied: numpy in c:\\users\\wii\\anaconda3\\lib\\site-packages (from xgboost) (1.20.3)\n",
      "Requirement already satisfied: scipy in c:\\users\\wii\\anaconda3\\lib\\site-packages (from xgboost) (1.7.1)\n",
      "Installing collected packages: xgboost\n",
      "Successfully installed xgboost-1.5.2\n"
     ]
    }
   ],
   "source": [
    "!pip install xgboost"
   ]
  },
  {
   "cell_type": "code",
   "execution_count": 3,
   "id": "da020fbe",
   "metadata": {},
   "outputs": [
    {
     "data": {
      "text/plain": [
       "(70260, 21)"
      ]
     },
     "execution_count": 3,
     "metadata": {},
     "output_type": "execute_result"
    }
   ],
   "source": [
    "df = pd.read_csv(r'final_for_model.csv')\n",
    "df.shape"
   ]
  },
  {
   "cell_type": "code",
   "execution_count": 8,
   "id": "6928f038",
   "metadata": {},
   "outputs": [],
   "source": [
    "X=df.drop('logerror' , axis=1)\n",
    "y=df['logerror']"
   ]
  },
  {
   "cell_type": "code",
   "execution_count": 9,
   "id": "60ccbcd5",
   "metadata": {},
   "outputs": [
    {
     "data": {
      "text/plain": [
       "((70260, 20), (70260,))"
      ]
     },
     "execution_count": 9,
     "metadata": {},
     "output_type": "execute_result"
    }
   ],
   "source": [
    "new_df = df.copy()\n",
    "X.shape, y.shape"
   ]
  },
  {
   "cell_type": "code",
   "execution_count": 10,
   "id": "dc72440d",
   "metadata": {},
   "outputs": [
    {
     "data": {
      "text/plain": [
       "((52695, 20), (52695,), (17565, 20), (17565,))"
      ]
     },
     "execution_count": 10,
     "metadata": {},
     "output_type": "execute_result"
    }
   ],
   "source": [
    "X_train, X_test, y_train, y_test = train_test_split(X, y, test_size=0.25, random_state = 100)\n",
    "X_train.shape, y_train.shape, X_test.shape, y_test.shape"
   ]
  },
  {
   "cell_type": "code",
   "execution_count": 11,
   "id": "2de55e6e",
   "metadata": {},
   "outputs": [],
   "source": [
    "train_vars = [var for var in X_train.columns if var not in ['parcelid', 'logerror']]\n",
    "len(train_vars)\n",
    "scaler = StandardScaler()\n",
    "\n",
    "scaler.fit(X_train[train_vars]) \n",
    "\n",
    "X_train[train_vars] = scaler.transform(X_train[train_vars])\n",
    "\n",
    "X_test[train_vars] = scaler.transform(X_test[train_vars])"
   ]
  },
  {
   "cell_type": "code",
   "execution_count": 12,
   "id": "0f510121",
   "metadata": {},
   "outputs": [
    {
     "data": {
      "text/html": [
       "<div>\n",
       "<style scoped>\n",
       "    .dataframe tbody tr th:only-of-type {\n",
       "        vertical-align: middle;\n",
       "    }\n",
       "\n",
       "    .dataframe tbody tr th {\n",
       "        vertical-align: top;\n",
       "    }\n",
       "\n",
       "    .dataframe thead th {\n",
       "        text-align: right;\n",
       "    }\n",
       "</style>\n",
       "<table border=\"1\" class=\"dataframe\">\n",
       "  <thead>\n",
       "    <tr style=\"text-align: right;\">\n",
       "      <th></th>\n",
       "      <th>parcelid</th>\n",
       "      <th>bathroomcnt</th>\n",
       "      <th>bedroomcnt</th>\n",
       "      <th>buildingqualitytypeid</th>\n",
       "      <th>finishedsquarefeet12</th>\n",
       "      <th>fips</th>\n",
       "      <th>heatingorsystemtypeid</th>\n",
       "      <th>latitude</th>\n",
       "      <th>longitude</th>\n",
       "      <th>lotsizesquarefeet</th>\n",
       "      <th>propertylandusetypeid</th>\n",
       "      <th>rawcensustractandblock</th>\n",
       "      <th>regionidcity</th>\n",
       "      <th>regionidcounty</th>\n",
       "      <th>regionidzip</th>\n",
       "      <th>roomcnt</th>\n",
       "      <th>unitcnt</th>\n",
       "      <th>taxamount</th>\n",
       "      <th>propage</th>\n",
       "      <th>propertyzoningdesc_labels</th>\n",
       "    </tr>\n",
       "  </thead>\n",
       "  <tbody>\n",
       "    <tr>\n",
       "      <th>15602</th>\n",
       "      <td>10934030</td>\n",
       "      <td>1.039614</td>\n",
       "      <td>1.077319</td>\n",
       "      <td>-1.450606</td>\n",
       "      <td>1.368148</td>\n",
       "      <td>-0.672408</td>\n",
       "      <td>-0.526789</td>\n",
       "      <td>0.533872</td>\n",
       "      <td>-0.840819</td>\n",
       "      <td>-0.282457</td>\n",
       "      <td>-0.50568</td>\n",
       "      <td>-0.703341</td>\n",
       "      <td>-0.813301</td>\n",
       "      <td>0.672408</td>\n",
       "      <td>-1.208086</td>\n",
       "      <td>-0.439343</td>\n",
       "      <td>-0.081247</td>\n",
       "      <td>-0.954568</td>\n",
       "      <td>1.254891</td>\n",
       "      <td>-0.470974</td>\n",
       "    </tr>\n",
       "    <tr>\n",
       "      <th>27292</th>\n",
       "      <td>12116223</td>\n",
       "      <td>-1.441419</td>\n",
       "      <td>0.059583</td>\n",
       "      <td>0.629159</td>\n",
       "      <td>0.535918</td>\n",
       "      <td>-0.672408</td>\n",
       "      <td>-0.526789</td>\n",
       "      <td>0.674431</td>\n",
       "      <td>-0.036819</td>\n",
       "      <td>-0.267228</td>\n",
       "      <td>-0.50568</td>\n",
       "      <td>-0.671488</td>\n",
       "      <td>0.974128</td>\n",
       "      <td>0.672408</td>\n",
       "      <td>-0.604150</td>\n",
       "      <td>-0.439343</td>\n",
       "      <td>-0.081247</td>\n",
       "      <td>-0.737606</td>\n",
       "      <td>2.552634</td>\n",
       "      <td>1.686830</td>\n",
       "    </tr>\n",
       "    <tr>\n",
       "      <th>37134</th>\n",
       "      <td>11533593</td>\n",
       "      <td>-0.200903</td>\n",
       "      <td>0.059583</td>\n",
       "      <td>0.629159</td>\n",
       "      <td>-0.728171</td>\n",
       "      <td>-0.672408</td>\n",
       "      <td>1.921281</td>\n",
       "      <td>0.016094</td>\n",
       "      <td>-1.104821</td>\n",
       "      <td>-0.334003</td>\n",
       "      <td>-0.50568</td>\n",
       "      <td>-0.690187</td>\n",
       "      <td>-0.813301</td>\n",
       "      <td>0.672408</td>\n",
       "      <td>-1.213056</td>\n",
       "      <td>-0.439343</td>\n",
       "      <td>-0.081247</td>\n",
       "      <td>1.636555</td>\n",
       "      <td>0.779052</td>\n",
       "      <td>-0.470974</td>\n",
       "    </tr>\n",
       "    <tr>\n",
       "      <th>19660</th>\n",
       "      <td>13078527</td>\n",
       "      <td>-0.200903</td>\n",
       "      <td>1.077319</td>\n",
       "      <td>0.629159</td>\n",
       "      <td>-0.591716</td>\n",
       "      <td>-0.672408</td>\n",
       "      <td>-0.526789</td>\n",
       "      <td>0.122551</td>\n",
       "      <td>0.902323</td>\n",
       "      <td>-0.274704</td>\n",
       "      <td>-0.50568</td>\n",
       "      <td>-0.677385</td>\n",
       "      <td>0.333907</td>\n",
       "      <td>0.672408</td>\n",
       "      <td>-0.032524</td>\n",
       "      <td>-0.439343</td>\n",
       "      <td>-0.081247</td>\n",
       "      <td>-0.229807</td>\n",
       "      <td>0.173439</td>\n",
       "      <td>2.541898</td>\n",
       "    </tr>\n",
       "    <tr>\n",
       "      <th>19926</th>\n",
       "      <td>12163237</td>\n",
       "      <td>-0.200903</td>\n",
       "      <td>-0.958153</td>\n",
       "      <td>0.629159</td>\n",
       "      <td>-0.860129</td>\n",
       "      <td>-0.672408</td>\n",
       "      <td>-0.526789</td>\n",
       "      <td>0.764055</td>\n",
       "      <td>-0.126408</td>\n",
       "      <td>-0.311506</td>\n",
       "      <td>-0.50568</td>\n",
       "      <td>-0.671698</td>\n",
       "      <td>0.103886</td>\n",
       "      <td>0.672408</td>\n",
       "      <td>-0.671254</td>\n",
       "      <td>-0.439343</td>\n",
       "      <td>-0.081247</td>\n",
       "      <td>-0.688036</td>\n",
       "      <td>1.903762</td>\n",
       "      <td>0.161445</td>\n",
       "    </tr>\n",
       "  </tbody>\n",
       "</table>\n",
       "</div>"
      ],
      "text/plain": [
       "       parcelid  bathroomcnt  bedroomcnt  buildingqualitytypeid  \\\n",
       "15602  10934030     1.039614    1.077319              -1.450606   \n",
       "27292  12116223    -1.441419    0.059583               0.629159   \n",
       "37134  11533593    -0.200903    0.059583               0.629159   \n",
       "19660  13078527    -0.200903    1.077319               0.629159   \n",
       "19926  12163237    -0.200903   -0.958153               0.629159   \n",
       "\n",
       "       finishedsquarefeet12      fips  heatingorsystemtypeid  latitude  \\\n",
       "15602              1.368148 -0.672408              -0.526789  0.533872   \n",
       "27292              0.535918 -0.672408              -0.526789  0.674431   \n",
       "37134             -0.728171 -0.672408               1.921281  0.016094   \n",
       "19660             -0.591716 -0.672408              -0.526789  0.122551   \n",
       "19926             -0.860129 -0.672408              -0.526789  0.764055   \n",
       "\n",
       "       longitude  lotsizesquarefeet  propertylandusetypeid  \\\n",
       "15602  -0.840819          -0.282457               -0.50568   \n",
       "27292  -0.036819          -0.267228               -0.50568   \n",
       "37134  -1.104821          -0.334003               -0.50568   \n",
       "19660   0.902323          -0.274704               -0.50568   \n",
       "19926  -0.126408          -0.311506               -0.50568   \n",
       "\n",
       "       rawcensustractandblock  regionidcity  regionidcounty  regionidzip  \\\n",
       "15602               -0.703341     -0.813301        0.672408    -1.208086   \n",
       "27292               -0.671488      0.974128        0.672408    -0.604150   \n",
       "37134               -0.690187     -0.813301        0.672408    -1.213056   \n",
       "19660               -0.677385      0.333907        0.672408    -0.032524   \n",
       "19926               -0.671698      0.103886        0.672408    -0.671254   \n",
       "\n",
       "        roomcnt   unitcnt  taxamount   propage  propertyzoningdesc_labels  \n",
       "15602 -0.439343 -0.081247  -0.954568  1.254891                  -0.470974  \n",
       "27292 -0.439343 -0.081247  -0.737606  2.552634                   1.686830  \n",
       "37134 -0.439343 -0.081247   1.636555  0.779052                  -0.470974  \n",
       "19660 -0.439343 -0.081247  -0.229807  0.173439                   2.541898  \n",
       "19926 -0.439343 -0.081247  -0.688036  1.903762                   0.161445  "
      ]
     },
     "execution_count": 12,
     "metadata": {},
     "output_type": "execute_result"
    }
   ],
   "source": [
    "X_train.head()"
   ]
  },
  {
   "cell_type": "code",
   "execution_count": 13,
   "id": "1da756f0",
   "metadata": {},
   "outputs": [],
   "source": [
    "X_train_new = X_train.copy()\n",
    "X_test_new = X_test.copy()\n",
    "\n",
    "X_train.drop(columns='parcelid', axis=1, inplace=True)\n",
    "X_test.drop(columns='parcelid', axis=1, inplace=True)"
   ]
  },
  {
   "cell_type": "code",
   "execution_count": 14,
   "id": "569e2abb",
   "metadata": {},
   "outputs": [
    {
     "name": "stdout",
     "output_type": "stream",
     "text": [
      "Mean Absolute Error : 0.05271345594353087\n",
      "\n",
      "Mean Squared Error : 0.00721919818372578\n",
      "\n",
      "Root Mean Squared Error : 0.0849658648147936\n"
     ]
    }
   ],
   "source": [
    "linear_reg = LinearRegression()\n",
    "\n",
    "linear_reg.fit(X_train, y_train)\n",
    "linear_reg_pred = linear_reg.predict(X_test)\n",
    "\n",
    "print('Mean Absolute Error : {}'.format(mean_absolute_error(y_test, linear_reg_pred)))\n",
    "print()\n",
    "print('Mean Squared Error : {}'.format(mean_squared_error(y_test, linear_reg_pred)))\n",
    "print()\n",
    "print('Root Mean Squared Error : {}'.format(sqrt(mean_squared_error(y_test, linear_reg_pred))))"
   ]
  },
  {
   "cell_type": "code",
   "execution_count": 15,
   "id": "58587393",
   "metadata": {},
   "outputs": [
    {
     "name": "stdout",
     "output_type": "stream",
     "text": [
      "Mean Absolute Error : 0.05271298978108193\n",
      "\n",
      "Mean Squared Error : 0.007219087862614829\n",
      "\n",
      "Root Mean Squared Error : 0.08496521560388598\n"
     ]
    }
   ],
   "source": [
    "ridge_reg = Ridge(alpha=1, solver='cholesky')\n",
    "\n",
    "ridge_reg.fit(X_train, y_train)\n",
    "ridge_reg_pred = ridge_reg.predict(X_test)\n",
    "\n",
    "print('Mean Absolute Error : {}'.format(mean_absolute_error(y_test, ridge_reg_pred)))\n",
    "print()\n",
    "print('Mean Squared Error : {}'.format(mean_squared_error(y_test, ridge_reg_pred)))\n",
    "print()\n",
    "print('Root Mean Squared Error : {}'.format(sqrt(mean_squared_error(y_test, ridge_reg_pred))))"
   ]
  },
  {
   "cell_type": "code",
   "execution_count": 16,
   "id": "cfe5fc95",
   "metadata": {},
   "outputs": [
    {
     "name": "stdout",
     "output_type": "stream",
     "text": [
      "Mean Absolute Error : 0.052772037640842616\n",
      "\n",
      "Mean Squared Error : 0.007263564946868809\n",
      "\n",
      "Root Mean Squared Error : 0.08522655071554175\n"
     ]
    }
   ],
   "source": [
    "lasso_reg = Lasso(alpha=0.1)\n",
    "\n",
    "lasso_reg.fit(X_train, y_train)\n",
    "lasso_reg_pred = lasso_reg.predict(X_test)\n",
    "\n",
    "print('Mean Absolute Error : {}'.format(mean_absolute_error(y_test, lasso_reg_pred)))\n",
    "print()\n",
    "print('Mean Squared Error : {}'.format(mean_squared_error(y_test, lasso_reg_pred)))\n",
    "print()\n",
    "print('Root Mean Squared Error : {}'.format(sqrt(mean_squared_error(y_test, lasso_reg_pred))))"
   ]
  },
  {
   "cell_type": "code",
   "execution_count": 17,
   "id": "ce9fd28b",
   "metadata": {},
   "outputs": [
    {
     "name": "stdout",
     "output_type": "stream",
     "text": [
      "Mean Absolute Error : 0.05380005751526278\n",
      "\n",
      "Mean Squared Error : 0.007353353803794397\n",
      "\n",
      "Root Mean Squared Error : 0.08575169854757629\n"
     ]
    }
   ],
   "source": [
    "xgb_reg = xgboost.XGBRegressor()\n",
    "\n",
    "xgb_reg.fit(X_train, y_train)\n",
    "xgb_reg_pred = xgb_reg.predict(X_test)\n",
    "\n",
    "print('Mean Absolute Error : {}'.format(mean_absolute_error(y_test, xgb_reg_pred)))\n",
    "print()\n",
    "print('Mean Squared Error : {}'.format(mean_squared_error(y_test, xgb_reg_pred)))\n",
    "print()\n",
    "print('Root Mean Squared Error : {}'.format(sqrt(mean_squared_error(y_test, xgb_reg_pred))))"
   ]
  },
  {
   "cell_type": "code",
   "execution_count": 18,
   "id": "6eb43fd5",
   "metadata": {},
   "outputs": [
    {
     "name": "stdout",
     "output_type": "stream",
     "text": [
      "Mean Absolute Error : 0.05541901136285567\n",
      "\n",
      "Mean Squared Error : 0.0074195768861056235\n",
      "\n",
      "Root Mean Squared Error : 0.08613696585151827\n"
     ]
    }
   ],
   "source": [
    "adaboost_reg = AdaBoostRegressor()\n",
    "\n",
    "adaboost_reg.fit(X_train, y_train)\n",
    "adaboost_reg_pred = adaboost_reg.predict(X_test)\n",
    "\n",
    "print('Mean Absolute Error : {}'.format(mean_absolute_error(y_test, adaboost_reg_pred)))\n",
    "print()\n",
    "print('Mean Squared Error : {}'.format(mean_squared_error(y_test, adaboost_reg_pred)))\n",
    "print()\n",
    "print('Root Mean Squared Error : {}'.format(sqrt(mean_squared_error(y_test, adaboost_reg_pred))))"
   ]
  },
  {
   "cell_type": "code",
   "execution_count": 19,
   "id": "534ada70",
   "metadata": {},
   "outputs": [
    {
     "name": "stdout",
     "output_type": "stream",
     "text": [
      "Mean Absolute Error : 0.05291490172561567\n",
      "\n",
      "Mean Squared Error : 0.007262408010192682\n",
      "\n",
      "Root Mean Squared Error : 0.0852197630259125\n"
     ]
    }
   ],
   "source": [
    "tree_reg = DecisionTreeRegressor(max_depth=5)\n",
    "\n",
    "tree_reg.fit(X_train, y_train)\n",
    "tree_reg_pred = tree_reg.predict(X_test)\n",
    "\n",
    "print('Mean Absolute Error : {}'.format(mean_absolute_error(y_test, tree_reg_pred)))\n",
    "print()\n",
    "print('Mean Squared Error : {}'.format(mean_squared_error(y_test, tree_reg_pred)))\n",
    "print()\n",
    "print('Root Mean Squared Error : {}'.format(sqrt(mean_squared_error(y_test, tree_reg_pred))))"
   ]
  },
  {
   "cell_type": "code",
   "execution_count": 20,
   "id": "34009dee",
   "metadata": {},
   "outputs": [
    {
     "name": "stdout",
     "output_type": "stream",
     "text": [
      "Mean Absolute Error : 0.05248206046513054\n",
      "\n",
      "Mean Squared Error : 0.007175270587724104\n",
      "\n",
      "Root Mean Squared Error : 0.08470696894426162\n"
     ]
    }
   ],
   "source": [
    "forest_reg = RandomForestRegressor(n_estimators= 500, max_depth=6)\n",
    "\n",
    "forest_reg.fit(X_train, y_train)\n",
    "forest_reg_pred = forest_reg.predict(X_test)\n",
    "\n",
    "print('Mean Absolute Error : {}'.format(mean_absolute_error(y_test, forest_reg_pred)))\n",
    "print()\n",
    "print('Mean Squared Error : {}'.format(mean_squared_error(y_test, forest_reg_pred)))\n",
    "print()\n",
    "print('Root Mean Squared Error : {}'.format(sqrt(mean_squared_error(y_test, forest_reg_pred))))"
   ]
  },
  {
   "cell_type": "code",
   "execution_count": null,
   "id": "0ff833cd",
   "metadata": {},
   "outputs": [],
   "source": []
  }
 ],
 "metadata": {
  "kernelspec": {
   "display_name": "Python 3 (ipykernel)",
   "language": "python",
   "name": "python3"
  },
  "language_info": {
   "codemirror_mode": {
    "name": "ipython",
    "version": 3
   },
   "file_extension": ".py",
   "mimetype": "text/x-python",
   "name": "python",
   "nbconvert_exporter": "python",
   "pygments_lexer": "ipython3",
   "version": "3.9.7"
  }
 },
 "nbformat": 4,
 "nbformat_minor": 5
}
